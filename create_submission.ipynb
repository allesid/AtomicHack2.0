{
 "cells": [
  {
   "cell_type": "code",
   "execution_count": null,
   "metadata": {},
   "outputs": [],
   "source": [
    "from ultralytics import YOLO\n",
    "import pandas as pd\n",
    "\n",
    "header = [\"filename\", \"class_id\", \"rel_x\", \"rel_y\", \"width\", \"height\"]\n",
    "\n",
    "def cs(img_path: str, checkpoint_path: str): # , prep_model: str\n",
    "    \"\"\"\n",
    "    Create submission.csv file for private dataset\n",
    "\n",
    "        Parameters:\n",
    "            img_path (str): path to uploaded image or directory with images\n",
    "            checkpoint_path (str): path to pretrained model weights\n",
    "    \"\"\"\n",
    "    model = YOLO(model=checkpoint_path)\n",
    "    result_yolo = model.predict(source=img_path)\n",
    "\n",
    "    submit_df0 = pd.DataFrame(index=[0],columns=['fname', 'class'])\n",
    "    submit_df1 = pd.DataFrame(index=[0],columns=['rel_x', 'rel_y','width','height'])\n",
    "    j=0\n",
    "    for sample in result_yolo:\n",
    "        ndef = sample.boxes.shape[0]\n",
    "        if ndef==0:\n",
    "            \n",
    "            submit_df0.loc[j] = [sample.path.split('/')[-1],'']\n",
    "            submit_df1.loc[j] = ['','','','']\n",
    "            j += 1\n",
    "        else:   \n",
    "            for i in range(ndef):\n",
    "                submit_df0.loc[j] = [sample.path.split('/')[-1],int(sample.boxes.cls[i].item())]\n",
    "                submit_df1.loc[j] = sample.boxes.xywhn[i].cpu().numpy().tolist()\n",
    "                j += 1\n",
    "    df = pd.concat((submit_df0,submit_df1),axis=1)\n",
    "    df.to_csv('submission.csv',sep=';',header=header,index=False)\n",
    "    print(df)"
   ]
  },
  {
   "cell_type": "code",
   "execution_count": null,
   "metadata": {},
   "outputs": [],
   "source": [
    "if __name__ == '__main__':\n",
    "    import argparse\n",
    "    parser = argparse.ArgumentParser()\n",
    "    parser.add_argument('-i', '--img_path', default=\"./test_dataset\",\n",
    "                        help='path to uploaded image or directory with images')\n",
    "    parser.add_argument('-c', '--checkpoint_path', default=\"./defection_detector/model/checkpoints/YOLOv9c_50epochs.pt\",\n",
    "                        help='path to pretrained model weights')\n",
    "    args = parser.parse_args()\n",
    "    img_path = args.img_path\n",
    "    checkpoint_path = args.checkpoint_path"
   ]
  }
 ],
 "metadata": {
  "language_info": {
   "name": "python"
  }
 },
 "nbformat": 4,
 "nbformat_minor": 2
}
